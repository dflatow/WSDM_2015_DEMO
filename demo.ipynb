{
 "metadata": {
  "name": "",
  "signature": "sha256:d5afef31dd03dab31f57a2c3f6de0d06e8e7dc330e995dedebc20a67b11c70ec"
 },
 "nbformat": 3,
 "nbformat_minor": 0,
 "worksheets": [
  {
   "cells": [
    {
     "cell_type": "markdown",
     "metadata": {},
     "source": [
      "# Imports"
     ]
    },
    {
     "cell_type": "code",
     "collapsed": false,
     "input": [
      "import pandas as pd\n",
      "import matplotlib.pyplot as plt\n",
      "pylab.rcParams['figure.figsize'] = (10.0, 10.0)"
     ],
     "language": "python",
     "metadata": {},
     "outputs": []
    },
    {
     "cell_type": "markdown",
     "metadata": {},
     "source": [
      "# Helper Function for Plotting"
     ]
    },
    {
     "cell_type": "code",
     "collapsed": false,
     "input": [
      "# converter from lon, lat to x, y for ploting on map\n",
      "def get_map_conversion_factors(x1, y1, x2, y2):\n",
      "    slope = 1.0 * (y2-y1)/(x2-x1)\n",
      "    intercept = y1 - slope*x1\n",
      "    return slope, intercept\n",
      "\n",
      "xy_1 = (200.0, 400.0) \n",
      "lonlat_1 = (-74.000998, 40.759803)\n",
      "\n",
      "xy_2 = (110.0, 650.0)\n",
      "lonlat_2 = (-74.015170, 40.731112)\n",
      "\n",
      "a_lon, b_lon = get_map_conversion_factors(lonlat_1[0], xy_1[0], \n",
      "                                  lonlat_2[0], xy_2[0])\n",
      "\n",
      "a_lat, b_lat = get_map_conversion_factors(lonlat_1[1], xy_1[1], \n",
      "                                  lonlat_2[1], xy_2[1])"
     ],
     "language": "python",
     "metadata": {},
     "outputs": []
    },
    {
     "cell_type": "markdown",
     "metadata": {},
     "source": [
      "# Helper for Running Model"
     ]
    },
    {
     "cell_type": "code",
     "collapsed": false,
     "input": [
      "def run_model_and_plot():\n",
      "       \n",
      "    print(\"\\n --- PROCESS DATA ---\") \n",
      "    !python process_data.py\n",
      "    \n",
      "    print(\"\\n --- TRAIN MODEL ---\")\n",
      "    !python train.py 0.2 0.9\n",
      "    \n",
      "    # read results\n",
      "    ngrams = pd.read_csv('model_output/train_twitter_all_test_twitter_all_area_0.20_ratio_0.90_geograms_0_chunk.csv',\n",
      "                     sep='\\t', names=['index', 'hyper_local', 'ngram', 'lat', 'lon', 'train_mean_error', 'n'])\n",
      "    \n",
      "    print(\"\\n --- HYPER-LOCAL N-GRAMS ---\")\n",
      "    \n",
      "    # filter only hyper_local n-grams\n",
      "    ngrams = ngrams[ngrams['hyper_local']].sort('n', ascending=False)\n",
      "    print(ngrams[['ngram', 'lon', 'lat']])\n",
      "    \n",
      "    # take top three and convert to (x, y) for plotting\n",
      "    coords = ngrams.head(3)[['lat', 'lon']]\n",
      "    coords['x'] = coords['lon'] * a_lon + b_lon\n",
      "    coords['y'] = coords['lat'] * a_lat + b_lat\n",
      "        \n",
      "    print(\"\\n --- TOP 3 HYPER-LOCAL N-GRAMS ---\")  \n",
      "    plt.clf()\n",
      "    im = plt.imread('map_nyc.png')\n",
      "    implot = plt.imshow(im)\n",
      "    plt.scatter(coords['x'], coords['y'], s=100)\n",
      "    plt.show()"
     ],
     "language": "python",
     "metadata": {},
     "outputs": []
    },
    {
     "cell_type": "markdown",
     "metadata": {},
     "source": [
      "# Commands for creating toy example"
     ]
    },
    {
     "cell_type": "code",
     "collapsed": false,
     "input": [
      "# create dataset from first 2000 rows of full tweets dataset\n",
      "#!head -2000 tweets.csv > demo_data.csv \n",
      "\n",
      "# add 100 rows of tweets that contain a phrase\n",
      "#!grep -i \"kinkyboots\" tweets.csv | head -100 >> demo_data.csv "
     ],
     "language": "python",
     "metadata": {},
     "outputs": []
    },
    {
     "cell_type": "markdown",
     "metadata": {},
     "source": [
      "# RUN THIS"
     ]
    },
    {
     "cell_type": "code",
     "collapsed": false,
     "input": [
      "run_model_and_plot()"
     ],
     "language": "python",
     "metadata": {},
     "outputs": []
    }
   ],
   "metadata": {}
  }
 ]
}